{
 "cells": [
  {
   "cell_type": "markdown",
   "metadata": {},
   "source": [
    "# Importing required libraries"
   ]
  },
  {
   "cell_type": "code",
   "execution_count": 1,
   "metadata": {},
   "outputs": [],
   "source": [
    "import pandas as pd"
   ]
  },
  {
   "cell_type": "code",
   "execution_count": 2,
   "metadata": {},
   "outputs": [],
   "source": [
    "import plotly.figure_factory as ff\n",
    "import seaborn as sns \n",
    "import matplotlib.pyplot as plt\n",
    "%matplotlib inline \n",
    "sns.set(color_codes=True) #seaborn theme colour variations "
   ]
  },
  {
   "cell_type": "code",
   "execution_count": 3,
   "metadata": {},
   "outputs": [],
   "source": [
    "#Loading data into data frame\n",
    "wh=pd.read_csv('WHO COVID-19 global table data February 2021.csv')"
   ]
  },
  {
   "cell_type": "code",
   "execution_count": 4,
   "metadata": {
    "scrolled": true
   },
   "outputs": [
    {
     "data": {
      "text/html": [
       "<div>\n",
       "<style scoped>\n",
       "    .dataframe tbody tr th:only-of-type {\n",
       "        vertical-align: middle;\n",
       "    }\n",
       "\n",
       "    .dataframe tbody tr th {\n",
       "        vertical-align: top;\n",
       "    }\n",
       "\n",
       "    .dataframe thead th {\n",
       "        text-align: right;\n",
       "    }\n",
       "</style>\n",
       "<table border=\"1\" class=\"dataframe\">\n",
       "  <thead>\n",
       "    <tr style=\"text-align: right;\">\n",
       "      <th></th>\n",
       "      <th>Name</th>\n",
       "      <th>WHO Region</th>\n",
       "      <th>Cases - cumulative total</th>\n",
       "      <th>Cases - cumulative total per 1 million population</th>\n",
       "      <th>Cases - newly reported in last 7 days</th>\n",
       "      <th>Cases - newly reported in last 24 hours</th>\n",
       "      <th>Deaths - cumulative total</th>\n",
       "      <th>Deaths - cumulative total per 1 million population</th>\n",
       "      <th>Deaths - newly reported in last 7 days</th>\n",
       "      <th>Deaths - newly reported in last 24 hours</th>\n",
       "      <th>Transmission Classification</th>\n",
       "    </tr>\n",
       "  </thead>\n",
       "  <tbody>\n",
       "    <tr>\n",
       "      <th>0</th>\n",
       "      <td>Global</td>\n",
       "      <td>NaN</td>\n",
       "      <td>103989900</td>\n",
       "      <td>13321.26077</td>\n",
       "      <td>3464227</td>\n",
       "      <td>464613</td>\n",
       "      <td>2260259</td>\n",
       "      <td>289.542538</td>\n",
       "      <td>91957</td>\n",
       "      <td>13004</td>\n",
       "      <td>NaN</td>\n",
       "    </tr>\n",
       "    <tr>\n",
       "      <th>1</th>\n",
       "      <td>United States of America</td>\n",
       "      <td>Americas</td>\n",
       "      <td>26172274</td>\n",
       "      <td>79069.68000</td>\n",
       "      <td>973433</td>\n",
       "      <td>116762</td>\n",
       "      <td>443256</td>\n",
       "      <td>1339.130000</td>\n",
       "      <td>21686</td>\n",
       "      <td>3426</td>\n",
       "      <td>Community transmission</td>\n",
       "    </tr>\n",
       "    <tr>\n",
       "      <th>2</th>\n",
       "      <td>India</td>\n",
       "      <td>South-East Asia</td>\n",
       "      <td>10790183</td>\n",
       "      <td>7818.95000</td>\n",
       "      <td>88990</td>\n",
       "      <td>12899</td>\n",
       "      <td>154703</td>\n",
       "      <td>112.100000</td>\n",
       "      <td>856</td>\n",
       "      <td>107</td>\n",
       "      <td>Clusters of cases</td>\n",
       "    </tr>\n",
       "    <tr>\n",
       "      <th>3</th>\n",
       "      <td>Brazil</td>\n",
       "      <td>Americas</td>\n",
       "      <td>9283418</td>\n",
       "      <td>43674.46000</td>\n",
       "      <td>350062</td>\n",
       "      <td>54096</td>\n",
       "      <td>226309</td>\n",
       "      <td>1064.690000</td>\n",
       "      <td>7431</td>\n",
       "      <td>1210</td>\n",
       "      <td>Community transmission</td>\n",
       "    </tr>\n",
       "    <tr>\n",
       "      <th>4</th>\n",
       "      <td>Russian Federation</td>\n",
       "      <td>Europe</td>\n",
       "      <td>3917918</td>\n",
       "      <td>26847.11000</td>\n",
       "      <td>124108</td>\n",
       "      <td>16714</td>\n",
       "      <td>75205</td>\n",
       "      <td>515.330000</td>\n",
       "      <td>3554</td>\n",
       "      <td>521</td>\n",
       "      <td>Clusters of cases</td>\n",
       "    </tr>\n",
       "  </tbody>\n",
       "</table>\n",
       "</div>"
      ],
      "text/plain": [
       "                       Name       WHO Region  Cases - cumulative total  \\\n",
       "0                    Global              NaN                 103989900   \n",
       "1  United States of America         Americas                  26172274   \n",
       "2                     India  South-East Asia                  10790183   \n",
       "3                    Brazil         Americas                   9283418   \n",
       "4        Russian Federation           Europe                   3917918   \n",
       "\n",
       "   Cases - cumulative total per 1 million population  \\\n",
       "0                                        13321.26077   \n",
       "1                                        79069.68000   \n",
       "2                                         7818.95000   \n",
       "3                                        43674.46000   \n",
       "4                                        26847.11000   \n",
       "\n",
       "   Cases - newly reported in last 7 days  \\\n",
       "0                                3464227   \n",
       "1                                 973433   \n",
       "2                                  88990   \n",
       "3                                 350062   \n",
       "4                                 124108   \n",
       "\n",
       "   Cases - newly reported in last 24 hours  Deaths - cumulative total  \\\n",
       "0                                   464613                    2260259   \n",
       "1                                   116762                     443256   \n",
       "2                                    12899                     154703   \n",
       "3                                    54096                     226309   \n",
       "4                                    16714                      75205   \n",
       "\n",
       "   Deaths - cumulative total per 1 million population  \\\n",
       "0                                         289.542538    \n",
       "1                                        1339.130000    \n",
       "2                                         112.100000    \n",
       "3                                        1064.690000    \n",
       "4                                         515.330000    \n",
       "\n",
       "   Deaths - newly reported in last 7 days  \\\n",
       "0                                   91957   \n",
       "1                                   21686   \n",
       "2                                     856   \n",
       "3                                    7431   \n",
       "4                                    3554   \n",
       "\n",
       "   Deaths - newly reported in last 24 hours Transmission Classification  \n",
       "0                                     13004                         NaN  \n",
       "1                                      3426      Community transmission  \n",
       "2                                       107           Clusters of cases  \n",
       "3                                      1210      Community transmission  \n",
       "4                                       521           Clusters of cases  "
      ]
     },
     "execution_count": 4,
     "metadata": {},
     "output_type": "execute_result"
    }
   ],
   "source": [
    "# Displaying the first 5 rows of the dataset\n",
    "wh.head(5)"
   ]
  },
  {
   "cell_type": "code",
   "execution_count": 5,
   "metadata": {},
   "outputs": [],
   "source": [
    "# Droping irrelevant colunms from the dataset\n",
    "wh=wh.drop(['Transmission Classification', 'Cases - newly reported in last 7 days', 'Cases - newly reported in last 24 hours', 'Deaths - newly reported in last 7 days', 'Deaths - newly reported in last 24 hours', 'Cases - cumulative total per 1 million population', 'Deaths - cumulative total per 1 million population'], axis=1)"
   ]
  },
  {
   "cell_type": "code",
   "execution_count": 6,
   "metadata": {},
   "outputs": [
    {
     "data": {
      "text/html": [
       "<div>\n",
       "<style scoped>\n",
       "    .dataframe tbody tr th:only-of-type {\n",
       "        vertical-align: middle;\n",
       "    }\n",
       "\n",
       "    .dataframe tbody tr th {\n",
       "        vertical-align: top;\n",
       "    }\n",
       "\n",
       "    .dataframe thead th {\n",
       "        text-align: right;\n",
       "    }\n",
       "</style>\n",
       "<table border=\"1\" class=\"dataframe\">\n",
       "  <thead>\n",
       "    <tr style=\"text-align: right;\">\n",
       "      <th></th>\n",
       "      <th>Name</th>\n",
       "      <th>WHO Region</th>\n",
       "      <th>Cases - cumulative total</th>\n",
       "      <th>Deaths - cumulative total</th>\n",
       "    </tr>\n",
       "  </thead>\n",
       "  <tbody>\n",
       "    <tr>\n",
       "      <th>0</th>\n",
       "      <td>Global</td>\n",
       "      <td>NaN</td>\n",
       "      <td>103989900</td>\n",
       "      <td>2260259</td>\n",
       "    </tr>\n",
       "    <tr>\n",
       "      <th>1</th>\n",
       "      <td>United States of America</td>\n",
       "      <td>Americas</td>\n",
       "      <td>26172274</td>\n",
       "      <td>443256</td>\n",
       "    </tr>\n",
       "    <tr>\n",
       "      <th>2</th>\n",
       "      <td>India</td>\n",
       "      <td>South-East Asia</td>\n",
       "      <td>10790183</td>\n",
       "      <td>154703</td>\n",
       "    </tr>\n",
       "    <tr>\n",
       "      <th>3</th>\n",
       "      <td>Brazil</td>\n",
       "      <td>Americas</td>\n",
       "      <td>9283418</td>\n",
       "      <td>226309</td>\n",
       "    </tr>\n",
       "    <tr>\n",
       "      <th>4</th>\n",
       "      <td>Russian Federation</td>\n",
       "      <td>Europe</td>\n",
       "      <td>3917918</td>\n",
       "      <td>75205</td>\n",
       "    </tr>\n",
       "  </tbody>\n",
       "</table>\n",
       "</div>"
      ],
      "text/plain": [
       "                       Name       WHO Region  Cases - cumulative total  \\\n",
       "0                    Global              NaN                 103989900   \n",
       "1  United States of America         Americas                  26172274   \n",
       "2                     India  South-East Asia                  10790183   \n",
       "3                    Brazil         Americas                   9283418   \n",
       "4        Russian Federation           Europe                   3917918   \n",
       "\n",
       "   Deaths - cumulative total  \n",
       "0                    2260259  \n",
       "1                     443256  \n",
       "2                     154703  \n",
       "3                     226309  \n",
       "4                      75205  "
      ]
     },
     "execution_count": 6,
     "metadata": {},
     "output_type": "execute_result"
    }
   ],
   "source": [
    "# Displaying the first 5 rows of the dataset\n",
    "wh.head(5)"
   ]
  },
  {
   "cell_type": "code",
   "execution_count": 7,
   "metadata": {},
   "outputs": [
    {
     "data": {
      "text/html": [
       "<div>\n",
       "<style scoped>\n",
       "    .dataframe tbody tr th:only-of-type {\n",
       "        vertical-align: middle;\n",
       "    }\n",
       "\n",
       "    .dataframe tbody tr th {\n",
       "        vertical-align: top;\n",
       "    }\n",
       "\n",
       "    .dataframe thead th {\n",
       "        text-align: right;\n",
       "    }\n",
       "</style>\n",
       "<table border=\"1\" class=\"dataframe\">\n",
       "  <thead>\n",
       "    <tr style=\"text-align: right;\">\n",
       "      <th></th>\n",
       "      <th>Name</th>\n",
       "      <th>WHO Region</th>\n",
       "      <th>Cases - cumulative total</th>\n",
       "      <th>Deaths - cumulative total</th>\n",
       "    </tr>\n",
       "  </thead>\n",
       "  <tbody>\n",
       "    <tr>\n",
       "      <th>232</th>\n",
       "      <td>Saint Helena</td>\n",
       "      <td>Africa</td>\n",
       "      <td>0</td>\n",
       "      <td>0</td>\n",
       "    </tr>\n",
       "    <tr>\n",
       "      <th>233</th>\n",
       "      <td>Tokelau</td>\n",
       "      <td>Western Pacific</td>\n",
       "      <td>0</td>\n",
       "      <td>0</td>\n",
       "    </tr>\n",
       "    <tr>\n",
       "      <th>234</th>\n",
       "      <td>Tonga</td>\n",
       "      <td>Western Pacific</td>\n",
       "      <td>0</td>\n",
       "      <td>0</td>\n",
       "    </tr>\n",
       "    <tr>\n",
       "      <th>235</th>\n",
       "      <td>Turkmenistan</td>\n",
       "      <td>Europe</td>\n",
       "      <td>0</td>\n",
       "      <td>0</td>\n",
       "    </tr>\n",
       "    <tr>\n",
       "      <th>236</th>\n",
       "      <td>Tuvalu</td>\n",
       "      <td>Western Pacific</td>\n",
       "      <td>0</td>\n",
       "      <td>0</td>\n",
       "    </tr>\n",
       "  </tbody>\n",
       "</table>\n",
       "</div>"
      ],
      "text/plain": [
       "             Name       WHO Region  Cases - cumulative total  \\\n",
       "232  Saint Helena           Africa                         0   \n",
       "233       Tokelau  Western Pacific                         0   \n",
       "234         Tonga  Western Pacific                         0   \n",
       "235  Turkmenistan           Europe                         0   \n",
       "236        Tuvalu  Western Pacific                         0   \n",
       "\n",
       "     Deaths - cumulative total  \n",
       "232                          0  \n",
       "233                          0  \n",
       "234                          0  \n",
       "235                          0  \n",
       "236                          0  "
      ]
     },
     "execution_count": 7,
     "metadata": {},
     "output_type": "execute_result"
    }
   ],
   "source": [
    "# Displaying the last 5 rows of the dataset\n",
    "wh.tail(5)"
   ]
  },
  {
   "cell_type": "code",
   "execution_count": 8,
   "metadata": {},
   "outputs": [
    {
     "data": {
      "text/plain": [
       "Name                         object\n",
       "WHO Region                   object\n",
       "Cases - cumulative total      int64\n",
       "Deaths - cumulative total     int64\n",
       "dtype: object"
      ]
     },
     "execution_count": 8,
     "metadata": {},
     "output_type": "execute_result"
    }
   ],
   "source": [
    "#Checking data types\n",
    "wh.dtypes"
   ]
  },
  {
   "cell_type": "code",
   "execution_count": 9,
   "metadata": {},
   "outputs": [
    {
     "data": {
      "text/plain": [
       "(237, 4)"
      ]
     },
     "execution_count": 9,
     "metadata": {},
     "output_type": "execute_result"
    }
   ],
   "source": [
    "#Checking for the number of rows and columns \n",
    "wh.shape"
   ]
  },
  {
   "cell_type": "code",
   "execution_count": 10,
   "metadata": {},
   "outputs": [
    {
     "name": "stdout",
     "output_type": "stream",
     "text": [
      "number of duplicate rows: (0, 4)\n"
     ]
    }
   ],
   "source": [
    "duplicate_rows_wh= wh[wh.duplicated()] #checking for duplicate rows\n",
    "print (\"number of duplicate rows:\", duplicate_rows_wh.shape) #display all duplicated rows"
   ]
  },
  {
   "cell_type": "code",
   "execution_count": 11,
   "metadata": {},
   "outputs": [
    {
     "data": {
      "text/plain": [
       "Name                         237\n",
       "WHO Region                   236\n",
       "Cases - cumulative total     237\n",
       "Deaths - cumulative total    237\n",
       "dtype: int64"
      ]
     },
     "execution_count": 11,
     "metadata": {},
     "output_type": "execute_result"
    }
   ],
   "source": [
    "#count of the number of rows\n",
    "wh.count()"
   ]
  },
  {
   "cell_type": "code",
   "execution_count": 12,
   "metadata": {
    "scrolled": true
   },
   "outputs": [
    {
     "name": "stdout",
     "output_type": "stream",
     "text": [
      "Name                         0\n",
      "WHO Region                   1\n",
      "Cases - cumulative total     0\n",
      "Deaths - cumulative total    0\n",
      "dtype: int64\n"
     ]
    }
   ],
   "source": [
    "#Checking for null values\n",
    "print (wh.isnull ().sum())"
   ]
  },
  {
   "cell_type": "markdown",
   "metadata": {},
   "source": [
    "Outliers"
   ]
  },
  {
   "cell_type": "code",
   "execution_count": 15,
   "metadata": {
    "scrolled": true
   },
   "outputs": [
    {
     "data": {
      "image/png": "[encoded data removed]",
      "text/plain": [
       "<Figure size 432x288 with 1 Axes>"
      ]
     },
     "metadata": {},
     "output_type": "display_data"
    }
   ],
   "source": [
    "# Total global number of covid cases against total death cases across six regions\n",
    "labels = ['Cases - cumulative total', 'Deaths - cumulative total']\n",
    "sizes = [wh.loc[0,'Cases - cumulative total'],\n",
    "         wh.loc[0,'Deaths - cumulative total'],\n",
    "        ]\n",
    "fig1, ax1 = plt.subplots()\n",
    "ax1.pie(sizes, labels=labels, autopct='%1.1f%%', shadow=True)\n",
    "ax1.axis('equal')\n",
    "plt.show()"
   ]
  },
  {
   "cell_type": "code",
   "execution_count": 37,
   "metadata": {},
   "outputs": [
    {
     "name": "stderr",
     "output_type": "stream",
     "text": [
      "C:\\Users\\bimbo\\Anaconda3\\envs\\Eda Project\\lib\\site-packages\\seaborn\\_decorators.py:43: FutureWarning: Pass the following variable as a keyword arg: x. From version 0.12, the only valid positional argument will be `data`, and passing other arguments without an explicit keyword will result in an error or misinterpretation.\n",
      "  FutureWarning\n"
     ]
    },
    {
     "data": {
      "image/png": "[encoded data removed]",
      "text/plain": [
       "<Figure size 864x360 with 1 Axes>"
      ]
     },
     "metadata": {},
     "output_type": "display_data"
    }
   ],
   "source": [
    "plt.figure(figsize =(12,5))\n",
    "ax = sns.countplot('WHO Region', data = wh)\n",
    "plt.xticks(size = 12)\n",
    "plt.xlabel('WHO Region', size =12)\n",
    "plt.yticks(size = 12)\n",
    "plt.ylabel('count', size =12)\n",
    "totals = []\n",
    "for i in ax.patches:\n",
    "    totals.append(i.get_height())\n",
    "total = sum(totals)\n",
    "for i in ax.patches:\n",
    "    ax.text(i.get_x()+.12, i.get_height()-3, \\\n",
    "            str(round((i.get_height()/total)*100, 2))+'%', fontsize=12,\n",
    "                color='black')"
   ]
  },
  {
   "cell_type": "markdown",
   "metadata": {},
   "source": [
    "Horizontal bar chart"
   ]
  },
  {
   "cell_type": "code",
   "execution_count": 16,
   "metadata": {
    "scrolled": true
   },
   "outputs": [
    {
     "data": {
      "image/png": "[encoded data removed]",
      "text/plain": [
       "<Figure size 432x288 with 1 Axes>"
      ]
     },
     "metadata": {},
     "output_type": "display_data"
    },
    {
     "data": {
      "text/plain": [
       "<Figure size 1152x5400 with 0 Axes>"
      ]
     },
     "metadata": {},
     "output_type": "display_data"
    }
   ],
   "source": [
    "#Total number of death caused by covid across regions\n",
    "sns.barplot(x = 'Deaths - cumulative total', y = 'WHO Region', data = wh,\n",
    "            label = 'WHO Region by Death cases', color = 'b', edgecolor = 'w')\n",
    "plt.figure(figsize=(16, 75))\n",
    "sns.despine(left = True, bottom = True)\n",
    "plt.show()\n"
   ]
  },
  {
   "cell_type": "code",
   "execution_count": 22,
   "metadata": {
    "scrolled": false
   },
   "outputs": [
    {
     "data": {
      "image/png": "[encoded data removed]",
      "text/plain": [
       "<Figure size 432x288 with 1 Axes>"
      ]
     },
     "metadata": {},
     "output_type": "display_data"
    },
    {
     "data": {
      "text/plain": [
       "<Figure size 1152x5400 with 0 Axes>"
      ]
     },
     "metadata": {},
     "output_type": "display_data"
    }
   ],
   "source": [
    "#Total number of covid cases across regions\n",
    "#horizontal bar chart\n",
    "sns.barplot(x = 'Cases - cumulative total', y = 'WHO Region', data = wh,\n",
    "            label = 'WHO Region by covid cases', color = 'b', edgecolor = 'w')\n",
    "plt.figure(figsize=(16, 75))\n",
    "sns.despine(left = True, bottom = True)\n",
    "plt.show()"
   ]
  },
  {
   "cell_type": "code",
   "execution_count": 20,
   "metadata": {
    "scrolled": false
   },
   "outputs": [
    {
     "data": {
      "text/html": [
       "<div>\n",
       "<style scoped>\n",
       "    .dataframe tbody tr th:only-of-type {\n",
       "        vertical-align: middle;\n",
       "    }\n",
       "\n",
       "    .dataframe tbody tr th {\n",
       "        vertical-align: top;\n",
       "    }\n",
       "\n",
       "    .dataframe thead th {\n",
       "        text-align: right;\n",
       "    }\n",
       "</style>\n",
       "<table border=\"1\" class=\"dataframe\">\n",
       "  <thead>\n",
       "    <tr style=\"text-align: right;\">\n",
       "      <th></th>\n",
       "      <th>Name</th>\n",
       "      <th>WHO Region</th>\n",
       "      <th>Cases - cumulative total</th>\n",
       "      <th>Deaths - cumulative total</th>\n",
       "    </tr>\n",
       "  </thead>\n",
       "  <tbody>\n",
       "    <tr>\n",
       "      <th>0</th>\n",
       "      <td>Global</td>\n",
       "      <td>NaN</td>\n",
       "      <td>103989900</td>\n",
       "      <td>2260259</td>\n",
       "    </tr>\n",
       "    <tr>\n",
       "      <th>1</th>\n",
       "      <td>United States of America</td>\n",
       "      <td>Americas</td>\n",
       "      <td>26172274</td>\n",
       "      <td>443256</td>\n",
       "    </tr>\n",
       "    <tr>\n",
       "      <th>2</th>\n",
       "      <td>India</td>\n",
       "      <td>South-East Asia</td>\n",
       "      <td>10790183</td>\n",
       "      <td>154703</td>\n",
       "    </tr>\n",
       "    <tr>\n",
       "      <th>3</th>\n",
       "      <td>Brazil</td>\n",
       "      <td>Americas</td>\n",
       "      <td>9283418</td>\n",
       "      <td>226309</td>\n",
       "    </tr>\n",
       "    <tr>\n",
       "      <th>4</th>\n",
       "      <td>Russian Federation</td>\n",
       "      <td>Europe</td>\n",
       "      <td>3917918</td>\n",
       "      <td>75205</td>\n",
       "    </tr>\n",
       "    <tr>\n",
       "      <th>5</th>\n",
       "      <td>The United Kingdom</td>\n",
       "      <td>Europe</td>\n",
       "      <td>3871829</td>\n",
       "      <td>109335</td>\n",
       "    </tr>\n",
       "    <tr>\n",
       "      <th>6</th>\n",
       "      <td>France</td>\n",
       "      <td>Europe</td>\n",
       "      <td>3198030</td>\n",
       "      <td>77193</td>\n",
       "    </tr>\n",
       "    <tr>\n",
       "      <th>7</th>\n",
       "      <td>Spain</td>\n",
       "      <td>Europe</td>\n",
       "      <td>2883465</td>\n",
       "      <td>60370</td>\n",
       "    </tr>\n",
       "    <tr>\n",
       "      <th>8</th>\n",
       "      <td>Italy</td>\n",
       "      <td>Europe</td>\n",
       "      <td>2583790</td>\n",
       "      <td>89820</td>\n",
       "    </tr>\n",
       "    <tr>\n",
       "      <th>9</th>\n",
       "      <td>Turkey</td>\n",
       "      <td>Europe</td>\n",
       "      <td>2501079</td>\n",
       "      <td>26354</td>\n",
       "    </tr>\n",
       "  </tbody>\n",
       "</table>\n",
       "</div>"
      ],
      "text/plain": [
       "                       Name       WHO Region  Cases - cumulative total  \\\n",
       "0                    Global              NaN                 103989900   \n",
       "1  United States of America         Americas                  26172274   \n",
       "2                     India  South-East Asia                  10790183   \n",
       "3                    Brazil         Americas                   9283418   \n",
       "4        Russian Federation           Europe                   3917918   \n",
       "5        The United Kingdom           Europe                   3871829   \n",
       "6                    France           Europe                   3198030   \n",
       "7                     Spain           Europe                   2883465   \n",
       "8                     Italy           Europe                   2583790   \n",
       "9                    Turkey           Europe                   2501079   \n",
       "\n",
       "   Deaths - cumulative total  \n",
       "0                    2260259  \n",
       "1                     443256  \n",
       "2                     154703  \n",
       "3                     226309  \n",
       "4                      75205  \n",
       "5                     109335  \n",
       "6                      77193  \n",
       "7                      60370  \n",
       "8                      89820  \n",
       "9                      26354  "
      ]
     },
     "execution_count": 20,
     "metadata": {},
     "output_type": "execute_result"
    }
   ],
   "source": [
    "wh.head(10)"
   ]
  }
 ],
 "metadata": {
  "kernelspec": {
   "display_name": "Python 3",
   "language": "python",
   "name": "python3"
  },
  "language_info": {
   "codemirror_mode": {
    "name": "ipython",
    "version": 3
   },
   "file_extension": ".py",
   "mimetype": "text/x-python",
   "name": "python",
   "nbconvert_exporter": "python",
   "pygments_lexer": "ipython3",
   "version": "3.7.7"
  }
 },
 "nbformat": 4,
 "nbformat_minor": 5
}
